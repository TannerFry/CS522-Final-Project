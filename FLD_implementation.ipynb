{
 "cells": [
  {
   "cell_type": "code",
   "execution_count": 1,
   "metadata": {},
   "outputs": [],
   "source": [
    "import load_data\n",
    "import numpy as np\n",
    "from sklearn.discriminant_analysis import LinearDiscriminantAnalysis as LDA\n",
    "\n",
    "def fld(X_train, Y_train, X_test, n_comp):\n",
    "    lda = LDA(n_components=n_comp)\n",
    "    X_train = lda.fit_transform(X_train, Y_train)\n",
    "    X_test = lda.transform(X_test)\n",
    "\n",
    "    return X_train, X_test"
   ]
  },
  {
   "cell_type": "code",
   "execution_count": 12,
   "metadata": {},
   "outputs": [
    {
     "name": "stdout",
     "output_type": "stream",
     "text": [
      "(7613, 19262)\n",
      "(3263, 19262)\n"
     ]
    }
   ],
   "source": [
    "\n",
    "# load data\n",
    "training_data = load_data.read_data(\"train.csv\")\n",
    "testing_data = load_data.read_data(\"test.csv\")\n",
    "testing_labels = load_data.read_data(\"submission.csv\")\n",
    "X_train, X_test = load_data.vectorize_data(training_data, testing_data)\n",
    "\n",
    "Y_train = np.array(training_data)[:, -1]\n",
    "Y_test = np.array(testing_labels)[:, -1]\n",
    "\n",
    "print(X_train.shape)\n",
    "print(X_test.shape)\n",
    "\n",
    "X_train = X_train.toarray()\n",
    "X_test = X_test.toarray()\n"
   ]
  },
  {
   "cell_type": "code",
   "execution_count": 13,
   "metadata": {},
   "outputs": [],
   "source": [
    "# reduce data\n",
    "# X_train_1, X_test_1 = fld(X_train, Y_train, X_test, 1)\n",
    "\n",
    "# np.save('X_train_FLD.npy',X_train_1)\n",
    "# np.save('X_test_FLD.npy',X_test_1)\n",
    "    \n",
    "X_train_1=np.load('X_train_FLD.npy')\n",
    "X_test_1=np.load('X_test_FLD.npy')\n",
    "\n",
    "print(X_train_1.shape)\n",
    "print(X_test_1.shape)"
   ]
  },
  {
   "cell_type": "code",
   "execution_count": 42,
   "metadata": {},
   "outputs": [
    {
     "name": "stdout",
     "output_type": "stream",
     "text": [
      "{'n_neighbors': 37}\n"
     ]
    }
   ],
   "source": [
    "#----------------------knn--------------------------------\n",
    "\n",
    "from sklearn.neighbors import KNeighborsClassifier\n",
    "from sklearn.model_selection import GridSearchCV\n",
    "from sklearn.metrics import precision_recall_fscore_support as score\n",
    "from sklearn.metrics import accuracy_score as acs\n",
    "import matplotlib.pyplot as plt\n",
    "import seaborn as sns\n",
    "from sklearn.metrics import confusion_matrix\n",
    "import time\n",
    "import pandas as pd\n",
    "\n",
    "def knn(X_train, Y_train, X_test, Y_test, params):\n",
    "\n",
    "    start = time.time()\n",
    "\n",
    "    mlp = KNeighborsClassifier(n_neighbors=params['n_neighbors'])\n",
    "    mlp.fit(X_train, Y_train)\n",
    "    Y_pred = mlp.predict(X_test)\n",
    "\n",
    "    end = time.time()\n",
    "\n",
    "    precision, recall, fscore, train_support = score(Y_test, Y_pred, pos_label='1', average='binary')\n",
    "    print('Precision: {} / Recall: {} / F1-Score: {} / Accuracy: {}'.format(\n",
    "        round(precision, 3), round(recall, 3), round(fscore, 3), round(acs(Y_test, Y_pred), 3)))\n",
    "\n",
    "    print(\"Execution Time: \" + str(end - start))\n",
    "\n",
    "    cm = confusion_matrix(Y_test, Y_pred)\n",
    "    class_label = [\"0\", \"1\"]\n",
    "    df_cm = pd.DataFrame(cm, index=class_label, columns=class_label)\n",
    "    sns.heatmap(df_cm, annot=True, fmt='d')\n",
    "    plt.title(\"Confusion Matrix\")\n",
    "    plt.xlabel(\"Predicted Label\")\n",
    "    plt.ylabel(\"True Label\")\n",
    "    plt.show()\n",
    "    return round(acs(Y_test, Y_pred), 3)\n",
    "\n",
    "def grid_search_knn(X_train, Y_train):\n",
    "    #grid searching\n",
    "    neighbors = list(range(1,50,2))\n",
    "\n",
    "    param_grid = {\n",
    "        'n_neighbors' : neighbors\n",
    "    }\n",
    "\n",
    "    clf = KNeighborsClassifier()\n",
    "    grid_search = GridSearchCV(estimator = clf, param_grid = param_grid, n_jobs = -1)\n",
    "    grid_search.fit(X_train, Y_train)\n",
    "    #print(grid_search.cv_results_)\n",
    "    print(grid_search.best_params_)\n",
    "    return grid_search.best_params_\n",
    "\n",
    "n_neighbors= grid_search_knn(X_train_1, Y_train)"
   ]
  },
  {
   "cell_type": "code",
   "execution_count": 41,
   "metadata": {},
   "outputs": [
    {
     "name": "stdout",
     "output_type": "stream",
     "text": [
      "Precision: 0.702 / Recall: 0.638 / F1-Score: 0.669 / Accuracy: 0.728\n",
      "Execution Time: 0.10674858093261719\n"
     ]
    },
    {
     "data": {
      "image/png": "[encoded data removed]",
      "text/plain": [
       "<Figure size 432x288 with 2 Axes>"
      ]
     },
     "metadata": {
      "needs_background": "light"
     },
     "output_type": "display_data"
    }
   ],
   "source": [
    "#----------------------knn--------------------------------\n",
    "\n",
    "params = {\n",
    "        'n_neighbors': 37\n",
    "}\n",
    "\n",
    "accu_knn = knn(X_train_1, Y_train, X_test_1, Y_test, params)"
   ]
  },
  {
   "cell_type": "code",
   "execution_count": 38,
   "metadata": {},
   "outputs": [
    {
     "name": "stdout",
     "output_type": "stream",
     "text": [
      "Precision: 0.68 / Recall: 0.662 / F1-Score: 0.671 / Accuracy: 0.721\n",
      "Execution Time: 0.04185962677001953\n"
     ]
    },
    {
     "data": {
      "image/png": "[encoded data removed]",
      "text/plain": [
       "<Figure size 432x288 with 2 Axes>"
      ]
     },
     "metadata": {
      "needs_background": "light"
     },
     "output_type": "display_data"
    }
   ],
   "source": [
    "#----------------------kmeans--------------------------------\n",
    "\n",
    "from sklearn.cluster import KMeans\n",
    "from sklearn.model_selection import GridSearchCV\n",
    "from sklearn.metrics import precision_recall_fscore_support as score\n",
    "from sklearn.metrics import accuracy_score as acs\n",
    "import matplotlib.pyplot as plt\n",
    "import seaborn as sns\n",
    "from sklearn.metrics import confusion_matrix\n",
    "import time\n",
    "\n",
    "def grid_search_kmeans(X_train, Y_train):\n",
    "    #grid searching\n",
    "    param_grid = {\n",
    "        'n_clusters' : [2],\n",
    "        'init' : ['k-means++'],\n",
    "        'n_init': list(range(1,30,10)),\n",
    "        'max_iter' : [10000]\n",
    "    }\n",
    "\n",
    "    clf = KMeans()\n",
    "    grid_search = GridSearchCV(estimator = clf, param_grid = param_grid, n_jobs = 6)\n",
    "    grid_search.fit(X_train, Y_train)\n",
    "    #print(grid_search.cv_results_)\n",
    "    print(grid_search.best_params_)\n",
    "    return grid_search.best_params_\n",
    "\n",
    "\n",
    "def kmeans(X_train, Y_train, X_test, Y_test, params):\n",
    "    start = time.time()\n",
    "\n",
    "    mlp = KMeans(n_clusters=params['n_clusters'], max_iter=100000)\n",
    "    mlp.fit(X_train, Y_train)\n",
    "    Y_pred = mlp.predict(X_test)\n",
    "\n",
    "    end = time.time()\n",
    "\n",
    "    # typecast to string to match X_test format\n",
    "    Y_pred = [str(x) for x in Y_pred]\n",
    "\n",
    "    precision, recall, fscore, train_support = score(Y_test, Y_pred, pos_label='1', average='binary')\n",
    "    print('Precision: {} / Recall: {} / F1-Score: {} / Accuracy: {}'.format(\n",
    "        round(precision, 3), round(recall, 3), round(fscore, 3), round(acs(Y_test, Y_pred), 3)))\n",
    "\n",
    "    print(\"Execution Time: \" + str(end - start))\n",
    "\n",
    "    cm = confusion_matrix(Y_test, Y_pred)\n",
    "    class_label = [\"0\", \"1\"]\n",
    "    df_cm = pd.DataFrame(cm, index=class_label, columns=class_label)\n",
    "    sns.heatmap(df_cm, annot=True, fmt='d')\n",
    "    plt.title(\"Confusion Matrix\")\n",
    "    plt.xlabel(\"Predicted Label\")\n",
    "    plt.ylabel(\"True Label\")\n",
    "    plt.show()\n",
    "    return round(acs(Y_test, Y_pred), 3)\n",
    "\n",
    "#n_clusters = grid_search_kmeans(X_train, Y_train)\n",
    "params = {\n",
    "        'n_clusters': 2\n",
    "}\n",
    "\n",
    "accu_kmeans= kmeans(X_train_1, Y_train, X_test_1, Y_test, params)"
   ]
  },
  {
   "cell_type": "code",
   "execution_count": 48,
   "metadata": {},
   "outputs": [
    {
     "name": "stdout",
     "output_type": "stream",
     "text": [
      "Precision: 0.679 / Recall: 0.662 / F1-Score: 0.67 / Accuracy: 0.72\n",
      "Execution Time: 1.3005669116973877\n"
     ]
    },
    {
     "data": {
      "image/png": "[encoded data removed]",
      "text/plain": [
       "<Figure size 432x288 with 2 Axes>"
      ]
     },
     "metadata": {
      "needs_background": "light"
     },
     "output_type": "display_data"
    }
   ],
   "source": [
    "#----------------------------wta--------------------------------\n",
    "from sklearn.cluster import MiniBatchKMeans\n",
    "from sklearn.model_selection import GridSearchCV\n",
    "from sklearn.metrics import precision_recall_fscore_support as score\n",
    "from sklearn.metrics import accuracy_score as acs\n",
    "import matplotlib.pyplot as plt\n",
    "import seaborn as sns\n",
    "from sklearn.metrics import confusion_matrix\n",
    "import time\n",
    "\n",
    "\n",
    "def wta(X_train, Y_train, X_test, Y_test, params):\n",
    "    start = time.time()\n",
    "\n",
    "    mlp = MiniBatchKMeans(n_clusters=params['n_clusters'], max_iter=100000, batch_size=1)\n",
    "    mlp.fit(X_train)\n",
    "    Y_pred = mlp.predict(X_test)\n",
    "\n",
    "    end = time.time()\n",
    "\n",
    "    # typecast to string to match X_test format\n",
    "    Y_pred = [str(x) for x in Y_pred]\n",
    "\n",
    "    precision, recall, fscore, train_support = score(Y_test, Y_pred, pos_label='1', average='binary')\n",
    "    print('Precision: {} / Recall: {} / F1-Score: {} / Accuracy: {}'.format(\n",
    "        round(precision, 3), round(recall, 3), round(fscore, 3), round(acs(Y_test, Y_pred), 3)))\n",
    "\n",
    "    print(\"Execution Time: \" + str(end - start))\n",
    "\n",
    "    cm = confusion_matrix(Y_test, Y_pred)\n",
    "    class_label = [\"0\", \"1\"]\n",
    "    df_cm = pd.DataFrame(cm, index=class_label, columns=class_label)\n",
    "    sns.heatmap(df_cm, annot=True, fmt='d')\n",
    "    plt.title(\"Confusion Matrix\")\n",
    "    plt.xlabel(\"Predicted Label\")\n",
    "    plt.ylabel(\"True Label\")\n",
    "    plt.show()\n",
    "    return round(acs(Y_test, Y_pred), 3)\n",
    "\n",
    "#n_clusters = grid_search_kmeans(X_train, Y_train)\n",
    "params = {\n",
    "        'n_clusters': 2\n",
    "}\n",
    "\n",
    "accu_kmeans= wta(X_train_1, Y_train, X_test_1, Y_test, params)"
   ]
  },
  {
   "cell_type": "code",
   "execution_count": 39,
   "metadata": {},
   "outputs": [
    {
     "name": "stdout",
     "output_type": "stream",
     "text": [
      "Precision: 0.698 / Recall: 0.618 / F1-Score: 0.656 / Accuracy: 0.721\n",
      "Execution time: 0.17555713653564453 seconds.\n"
     ]
    },
    {
     "data": {
      "image/png": "[encoded data removed]",
      "text/plain": [
       "<Figure size 432x288 with 2 Axes>"
      ]
     },
     "metadata": {
      "needs_background": "light"
     },
     "output_type": "display_data"
    }
   ],
   "source": [
    "#----------------------rf--------------------------------\n",
    "\n",
    "from sklearn.ensemble import RandomForestClassifier\n",
    "from sklearn.model_selection import GridSearchCV\n",
    "from sklearn.metrics import precision_recall_fscore_support as score\n",
    "from sklearn.metrics import accuracy_score as acs\n",
    "import matplotlib.pyplot as plt\n",
    "import seaborn as sns\n",
    "from sklearn.metrics import confusion_matrix\n",
    "import time\n",
    "\n",
    "def rf(X_train, Y_train, X_test, Y_test):\n",
    "\n",
    "    start = time.time()\n",
    "\n",
    "    rf = RandomForestClassifier(max_depth=None, n_jobs=-1)\n",
    "    rf.fit(X_train, Y_train)\n",
    "    Y_pred = rf.predict(X_test)\n",
    "\n",
    "    end = time.time()\n",
    "\n",
    "    precision, recall, fscore, train_support = score(Y_test, Y_pred, pos_label='1', average='binary')\n",
    "    print('Precision: {} / Recall: {} / F1-Score: {} / Accuracy: {}'.format(\n",
    "        round(precision, 3), round(recall, 3), round(fscore, 3), round(acs(Y_test, Y_pred), 3)))\n",
    "    print(\"Execution time: \" + str(end - start) + \" seconds.\")\n",
    "\n",
    "    cm = confusion_matrix(Y_test, Y_pred)\n",
    "    class_label = [\"0\", \"1\"]\n",
    "    df_cm = pd.DataFrame(cm, index=class_label, columns=class_label)\n",
    "    sns.heatmap(df_cm, annot=True, fmt='d')\n",
    "    plt.title(\"Confusion Matrix\")\n",
    "    plt.xlabel(\"Predicted Label\")\n",
    "    plt.ylabel(\"True Label\")\n",
    "    plt.show()\n",
    "    return round(acs(Y_test, Y_pred), 3)\n",
    "\n",
    "accu_rf = rf(X_train_1, Y_train, X_test_1, Y_test)\n"
   ]
  },
  {
   "cell_type": "code",
   "execution_count": 40,
   "metadata": {},
   "outputs": [
    {
     "name": "stdout",
     "output_type": "stream",
     "text": [
      "Precision: 0.699 / Recall: 0.638 / F1-Score: 0.667 / Accuracy: 0.726\n",
      "Execution Time: 0.04843401908874512\n"
     ]
    },
    {
     "data": {
      "image/png": "[encoded data removed]",
      "text/plain": [
       "<Figure size 432x288 with 2 Axes>"
      ]
     },
     "metadata": {
      "needs_background": "light"
     },
     "output_type": "display_data"
    }
   ],
   "source": [
    "#----------------------svm--------------------------------\n",
    "\n",
    "from sklearn.svm import SVC\n",
    "from sklearn.metrics import precision_recall_fscore_support as score\n",
    "from sklearn.metrics import accuracy_score as acs\n",
    "import matplotlib.pyplot as plt\n",
    "import seaborn as sns\n",
    "from sklearn.metrics import confusion_matrix\n",
    "import time\n",
    "\n",
    "\n",
    "def svm(X_train, Y_train, X_test, Y_test):\n",
    "    start = time.time()\n",
    "\n",
    "    svclassifier = SVC()\n",
    "    svclassifier.fit(X_train, Y_train)\n",
    "    Y_pred = svclassifier.predict(X_test)\n",
    "\n",
    "    end = time.time()\n",
    "\n",
    "    precision, recall, fscore, train_support = score(Y_test, Y_pred, pos_label='1', average='binary')\n",
    "    print('Precision: {} / Recall: {} / F1-Score: {} / Accuracy: {}'.format(\n",
    "        round(precision, 3), round(recall, 3), round(fscore, 3), round(acs(Y_test, Y_pred), 3)))\n",
    "    print(\"Execution Time: \" + str(end - start))\n",
    "\n",
    "    cm = confusion_matrix(Y_test, Y_pred)\n",
    "    class_label = [\"0\", \"1\"]\n",
    "    df_cm = pd.DataFrame(cm, index=class_label, columns=class_label)\n",
    "    sns.heatmap(df_cm, annot=True, fmt='d')\n",
    "    plt.title(\"Confusion Matrix\")\n",
    "    plt.xlabel(\"Predicted Label\")\n",
    "    plt.ylabel(\"True Label\")\n",
    "    plt.show()\n",
    "    return round(acs(Y_test, Y_pred), 3)\n",
    "\n",
    "accu_svm = svm(X_train_1, Y_train, X_test_1, Y_test)"
   ]
  },
  {
   "cell_type": "code",
   "execution_count": 58,
   "metadata": {},
   "outputs": [
    {
     "name": "stdout",
     "output_type": "stream",
     "text": [
      "{'activation': 'relu', 'hidden_layer_sizes': (100, 10), 'learning_rate_init': 0.0009, 'max_iter': 100000, 'solver': 'lbfgs'}\n"
     ]
    }
   ],
   "source": [
    "#----------------------bpnn--------------------------------\n",
    "\n",
    "import pandas as pd\n",
    "import numpy as np\n",
    "from sklearn.neural_network import MLPClassifier\n",
    "from sklearn.model_selection import GridSearchCV\n",
    "from sklearn.metrics import precision_recall_fscore_support as score\n",
    "from sklearn.metrics import accuracy_score as acs\n",
    "import matplotlib.pyplot as plt\n",
    "import seaborn as sns\n",
    "from sklearn.metrics import confusion_matrix\n",
    "import time\n",
    "\n",
    "\n",
    "#test various paramters using param_grid\n",
    "def grid_search_bpnn(X_train, Y_train):\n",
    "    #grid searching\n",
    "    param_grid = {\n",
    "        'max_iter' : [100000],\n",
    "        'activation': ['relu'],\n",
    "        'solver': ['lbfgs'],\n",
    "        'hidden_layer_sizes': [(500,100,50), (100,10), (500,100,10)],\n",
    "        'learning_rate_init': [0.0009]\n",
    "    }\n",
    "    clf = MLPClassifier()\n",
    "    grid_search = GridSearchCV(estimator = clf, param_grid = param_grid, n_jobs = -1)\n",
    "    grid_search.fit(X_train, Y_train)\n",
    "    print(grid_search.best_params_)\n",
    "    return grid_search.best_params_\n",
    "\n",
    "#bpnn with best results\n",
    "def bpnn(X_train, Y_train, X_test, Y_test, params):\n",
    "    start = time.time()\n",
    "\n",
    "    mlp = MLPClassifier(hidden_layer_sizes=params['hidden_layer_sizes'], activation=params['activation'], learning_rate_init=params['learning_rate_init'], solver=params['solver'], max_iter=100000)\n",
    "    mlp.fit(X_train, Y_train)\n",
    "    Y_pred = mlp.predict(X_test)\n",
    "\n",
    "    end = time.time()\n",
    "\n",
    "    precision, recall, fscore, train_support = score(Y_test, Y_pred, pos_label='1', average='binary')\n",
    "    print('Precision: {} / Recall: {} / F1-Score: {} / Accuracy: {}'.format(\n",
    "        round(precision, 3), round(recall, 3), round(fscore, 3), round(acs(Y_test, Y_pred), 3)))\n",
    "\n",
    "    print(\"Execution time: \" + str(end - start))\n",
    "\n",
    "    cm = confusion_matrix(Y_test, Y_pred)\n",
    "    class_label = [\"0\", \"1\"]\n",
    "    df_cm = pd.DataFrame(cm, index=class_label, columns=class_label)\n",
    "    sns.heatmap(df_cm, annot=True, fmt='d')\n",
    "    plt.title(\"Confusion Matrix\")\n",
    "    plt.xlabel(\"Predicted Label\")\n",
    "    plt.ylabel(\"True Label\")\n",
    "    plt.show()\n",
    "\n",
    "#uncommment for grid searching\n",
    "params = grid_search_bpnn(X_train_1, Y_train)"
   ]
  },
  {
   "cell_type": "code",
   "execution_count": 46,
   "metadata": {},
   "outputs": [
    {
     "name": "stdout",
     "output_type": "stream",
     "text": [
      "Precision: 0.733 / Recall: 0.581 / F1-Score: 0.648 / Accuracy: 0.729\n",
      "Execution time: 5.03199315071106\n"
     ]
    },
    {
     "data": {
      "image/png": "[encoded data removed]",
      "text/plain": [
       "<Figure size 432x288 with 2 Axes>"
      ]
     },
     "metadata": {
      "needs_background": "light"
     },
     "output_type": "display_data"
    }
   ],
   "source": [
    "params = {\n",
    "        'activation': 'relu',\n",
    "        'solver': 'lbfgs',\n",
    "        'hidden_layer_sizes': (500, 100, 50),\n",
    "        'learning_rate_init': 0.0009\n",
    "}\n",
    "\n",
    "bpnn(X_train_1, Y_train, X_test_1, Y_test, params)\n"
   ]
  }
 ],
 "metadata": {
  "kernelspec": {
   "display_name": "Python 3",
   "language": "python",
   "name": "python3"
  }
 },
 "nbformat": 4,
 "nbformat_minor": 4
}
